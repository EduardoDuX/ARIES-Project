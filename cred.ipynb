{
 "cells": [
  {
   "cell_type": "code",
   "execution_count": 4,
   "metadata": {},
   "outputs": [],
   "source": [
    "import pyperclip"
   ]
  },
  {
   "cell_type": "code",
   "execution_count": null,
   "metadata": {},
   "outputs": [],
   "source": [
    "cred = '''\n",
    "\n",
    "\n",
    "\n",
    "{\"@type\": \"https://didcomm.org/out-of-band/1.1/invitation\", \"@id\": \"c3880a49-0bdd-4422-872c-329727112eb1\", \"label\": \"usp.agent\", \"handshake_protocols\": [\"https://didcomm.org/didexchange/1.1\"], \"services\": [{\"i\n",
    "d\": \"#inline\", \"type\": \"did-communication\", \"recipientKeys\": [\"did:key:z6MkkXHMpUC81JXKa6qzqmFhwzGhQevfaSzXxM13TN2AtV6o#z6MkkXHMpUC81JXKa6qzqmFhwzGhQevfaSzXxM13TN2AtV6o\"], \"serviceEndpoint\": \"http://host.docke\n",
    "r.internal:8020\"}]}\n",
    "\n",
    "\n",
    "\n",
    "\n",
    "\n",
    "\n",
    "\n",
    "'''\n",
    "\n",
    "\n",
    "\n",
    "pyperclip.copy(cred.replace(\"\\n\", \"\"))\n",
    "\n",
    "\n",
    "spam = pyperclip.paste()"
   ]
  }
 ],
 "metadata": {
  "kernelspec": {
   "display_name": "Python 3",
   "language": "python",
   "name": "python3"
  },
  "language_info": {
   "codemirror_mode": {
    "name": "ipython",
    "version": 3
   },
   "file_extension": ".py",
   "mimetype": "text/x-python",
   "name": "python",
   "nbconvert_exporter": "python",
   "pygments_lexer": "ipython3",
   "version": "3.12.3"
  }
 },
 "nbformat": 4,
 "nbformat_minor": 2
}
